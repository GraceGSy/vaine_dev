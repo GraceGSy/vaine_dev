{
 "cells": [
  {
   "cell_type": "code",
   "execution_count": 6,
   "metadata": {},
   "outputs": [
    {
     "data": {
      "text/plain": [
       "vaine.react_jupyter_widget.VaineWidget"
      ]
     },
     "execution_count": 6,
     "metadata": {},
     "output_type": "execute_result"
    }
   ],
   "source": [
    "import imp\n",
    "from vaine import VaineWidget\n",
    "\n",
    "VaineWidget"
   ]
  },
  {
   "cell_type": "code",
   "execution_count": 7,
   "metadata": {},
   "outputs": [],
   "source": [
    "variables = {1:'mpg',\n",
    "             2:'cylinders',\n",
    "             3:'displacement',\n",
    "             4:'horsepower',\n",
    "             5:'weight',\n",
    "             6:'acceleration',\n",
    "             7:'model year',\n",
    "             8:'origin',\n",
    "             9:'car name'}"
   ]
  },
  {
   "cell_type": "code",
   "execution_count": 8,
   "metadata": {},
   "outputs": [
    {
     "data": {
      "text/html": [
       "<div>\n",
       "<style scoped>\n",
       "    .dataframe tbody tr th:only-of-type {\n",
       "        vertical-align: middle;\n",
       "    }\n",
       "\n",
       "    .dataframe tbody tr th {\n",
       "        vertical-align: top;\n",
       "    }\n",
       "\n",
       "    .dataframe thead th {\n",
       "        text-align: right;\n",
       "    }\n",
       "</style>\n",
       "<table border=\"1\" class=\"dataframe\">\n",
       "  <thead>\n",
       "    <tr style=\"text-align: right;\">\n",
       "      <th></th>\n",
       "      <th>Outcome.mpg</th>\n",
       "      <th>Treatment.cylinders</th>\n",
       "      <th>Treatment.displacement</th>\n",
       "      <th>Treatment.horsepower</th>\n",
       "      <th>Treatment.weight</th>\n",
       "      <th>Treatment.acceleration</th>\n",
       "      <th>Covariate.model year</th>\n",
       "      <th>Covariate.origin</th>\n",
       "      <th>Covariate.car name</th>\n",
       "    </tr>\n",
       "  </thead>\n",
       "  <tbody>\n",
       "    <tr>\n",
       "      <th>0</th>\n",
       "      <td>18.0</td>\n",
       "      <td>8</td>\n",
       "      <td>307.0</td>\n",
       "      <td>130.0</td>\n",
       "      <td>3504.0</td>\n",
       "      <td>12.0</td>\n",
       "      <td>70</td>\n",
       "      <td>1</td>\n",
       "      <td>\"chevrolet chevelle malibu\"</td>\n",
       "    </tr>\n",
       "    <tr>\n",
       "      <th>1</th>\n",
       "      <td>15.0</td>\n",
       "      <td>8</td>\n",
       "      <td>350.0</td>\n",
       "      <td>165.0</td>\n",
       "      <td>3693.0</td>\n",
       "      <td>11.5</td>\n",
       "      <td>70</td>\n",
       "      <td>1</td>\n",
       "      <td>\"buick skylark 320\"</td>\n",
       "    </tr>\n",
       "    <tr>\n",
       "      <th>2</th>\n",
       "      <td>18.0</td>\n",
       "      <td>8</td>\n",
       "      <td>318.0</td>\n",
       "      <td>150.0</td>\n",
       "      <td>3436.0</td>\n",
       "      <td>11.0</td>\n",
       "      <td>70</td>\n",
       "      <td>1</td>\n",
       "      <td>\"plymouth satellite\"</td>\n",
       "    </tr>\n",
       "    <tr>\n",
       "      <th>3</th>\n",
       "      <td>16.0</td>\n",
       "      <td>8</td>\n",
       "      <td>304.0</td>\n",
       "      <td>150.0</td>\n",
       "      <td>3433.0</td>\n",
       "      <td>12.0</td>\n",
       "      <td>70</td>\n",
       "      <td>1</td>\n",
       "      <td>\"amc rebel sst\"</td>\n",
       "    </tr>\n",
       "    <tr>\n",
       "      <th>4</th>\n",
       "      <td>17.0</td>\n",
       "      <td>8</td>\n",
       "      <td>302.0</td>\n",
       "      <td>140.0</td>\n",
       "      <td>3449.0</td>\n",
       "      <td>10.5</td>\n",
       "      <td>70</td>\n",
       "      <td>1</td>\n",
       "      <td>\"ford torino\"</td>\n",
       "    </tr>\n",
       "    <tr>\n",
       "      <th>...</th>\n",
       "      <td>...</td>\n",
       "      <td>...</td>\n",
       "      <td>...</td>\n",
       "      <td>...</td>\n",
       "      <td>...</td>\n",
       "      <td>...</td>\n",
       "      <td>...</td>\n",
       "      <td>...</td>\n",
       "      <td>...</td>\n",
       "    </tr>\n",
       "    <tr>\n",
       "      <th>393</th>\n",
       "      <td>27.0</td>\n",
       "      <td>4</td>\n",
       "      <td>140.0</td>\n",
       "      <td>86.0</td>\n",
       "      <td>2790.0</td>\n",
       "      <td>15.6</td>\n",
       "      <td>82</td>\n",
       "      <td>1</td>\n",
       "      <td>\"ford mustang gl\"</td>\n",
       "    </tr>\n",
       "    <tr>\n",
       "      <th>394</th>\n",
       "      <td>44.0</td>\n",
       "      <td>4</td>\n",
       "      <td>97.0</td>\n",
       "      <td>52.0</td>\n",
       "      <td>2130.0</td>\n",
       "      <td>24.6</td>\n",
       "      <td>82</td>\n",
       "      <td>2</td>\n",
       "      <td>\"vw pickup\"</td>\n",
       "    </tr>\n",
       "    <tr>\n",
       "      <th>395</th>\n",
       "      <td>32.0</td>\n",
       "      <td>4</td>\n",
       "      <td>135.0</td>\n",
       "      <td>84.0</td>\n",
       "      <td>2295.0</td>\n",
       "      <td>11.6</td>\n",
       "      <td>82</td>\n",
       "      <td>1</td>\n",
       "      <td>\"dodge rampage\"</td>\n",
       "    </tr>\n",
       "    <tr>\n",
       "      <th>396</th>\n",
       "      <td>28.0</td>\n",
       "      <td>4</td>\n",
       "      <td>120.0</td>\n",
       "      <td>79.0</td>\n",
       "      <td>2625.0</td>\n",
       "      <td>18.6</td>\n",
       "      <td>82</td>\n",
       "      <td>1</td>\n",
       "      <td>\"ford ranger\"</td>\n",
       "    </tr>\n",
       "    <tr>\n",
       "      <th>397</th>\n",
       "      <td>31.0</td>\n",
       "      <td>4</td>\n",
       "      <td>119.0</td>\n",
       "      <td>82.0</td>\n",
       "      <td>2720.0</td>\n",
       "      <td>19.4</td>\n",
       "      <td>82</td>\n",
       "      <td>1</td>\n",
       "      <td>\"chevy s-10\"</td>\n",
       "    </tr>\n",
       "  </tbody>\n",
       "</table>\n",
       "<p>392 rows × 9 columns</p>\n",
       "</div>"
      ],
      "text/plain": [
       "     Outcome.mpg  Treatment.cylinders  Treatment.displacement  \\\n",
       "0           18.0                    8                   307.0   \n",
       "1           15.0                    8                   350.0   \n",
       "2           18.0                    8                   318.0   \n",
       "3           16.0                    8                   304.0   \n",
       "4           17.0                    8                   302.0   \n",
       "..           ...                  ...                     ...   \n",
       "393         27.0                    4                   140.0   \n",
       "394         44.0                    4                    97.0   \n",
       "395         32.0                    4                   135.0   \n",
       "396         28.0                    4                   120.0   \n",
       "397         31.0                    4                   119.0   \n",
       "\n",
       "     Treatment.horsepower  Treatment.weight  Treatment.acceleration  \\\n",
       "0                   130.0            3504.0                    12.0   \n",
       "1                   165.0            3693.0                    11.5   \n",
       "2                   150.0            3436.0                    11.0   \n",
       "3                   150.0            3433.0                    12.0   \n",
       "4                   140.0            3449.0                    10.5   \n",
       "..                    ...               ...                     ...   \n",
       "393                  86.0            2790.0                    15.6   \n",
       "394                  52.0            2130.0                    24.6   \n",
       "395                  84.0            2295.0                    11.6   \n",
       "396                  79.0            2625.0                    18.6   \n",
       "397                  82.0            2720.0                    19.4   \n",
       "\n",
       "     Covariate.model year  Covariate.origin           Covariate.car name  \n",
       "0                      70                 1  \"chevrolet chevelle malibu\"  \n",
       "1                      70                 1          \"buick skylark 320\"  \n",
       "2                      70                 1         \"plymouth satellite\"  \n",
       "3                      70                 1              \"amc rebel sst\"  \n",
       "4                      70                 1                \"ford torino\"  \n",
       "..                    ...               ...                          ...  \n",
       "393                    82                 1            \"ford mustang gl\"  \n",
       "394                    82                 2                  \"vw pickup\"  \n",
       "395                    82                 1              \"dodge rampage\"  \n",
       "396                    82                 1                \"ford ranger\"  \n",
       "397                    82                 1                 \"chevy s-10\"  \n",
       "\n",
       "[392 rows x 9 columns]"
      ]
     },
     "execution_count": 8,
     "metadata": {},
     "output_type": "execute_result"
    }
   ],
   "source": [
    "import numpy as np\n",
    "import pandas as pd\n",
    "import io\n",
    "\n",
    "url = 'https://archive.ics.uci.edu/ml/machine-learning-databases/auto-mpg/auto-mpg.data'\n",
    "widths = [7, 4, 10, 10, 11, 7, 4, 4, 30]\n",
    "df = pd.read_fwf(url, widths=widths, header=None, na_values=['?'])\n",
    "df.columns = ['Outcome.mpg','Treatment.cylinders','Treatment.displacement',\n",
    "              'Treatment.horsepower','Treatment.weight','Treatment.acceleration',\n",
    "              'Covariate.model year','Covariate.origin','Covariate.car name']\n",
    "df = df.dropna()\n",
    "\n",
    "# The index of the dataframe should use unique values\n",
    "# This dataset does not have unique car name values, so the following will cause errors\n",
    "# df = df.set_index('Covariate.car name')\n",
    "df"
   ]
  },
  {
   "cell_type": "code",
   "execution_count": 9,
   "metadata": {},
   "outputs": [
    {
     "data": {
      "text/plain": [
       "['Treatment.acceleration',\n",
       " 'Treatment.cylinders',\n",
       " 'Treatment.displacement',\n",
       " 'Treatment.horsepower',\n",
       " 'Treatment.weight']"
      ]
     },
     "execution_count": 9,
     "metadata": {},
     "output_type": "execute_result"
    }
   ],
   "source": [
    "treatments = df.columns[df.columns.str.startswith('Treatment')].tolist()\n",
    "outcomes = df.columns[df.columns.str.startswith('Outcome')].tolist()\n",
    "\n",
    "ignore = ['Covariate.model year', 'Covariate.origin', 'Covariate.car name']\n",
    "\n",
    "sorted(treatments)"
   ]
  },
  {
   "cell_type": "code",
   "execution_count": 5,
   "metadata": {
    "scrolled": false
   },
   "outputs": [
    {
     "data": {
      "application/vnd.jupyter.widget-view+json": {
       "model_id": "cab996897a0c4190a7dedf8b37731f1d",
       "version_major": 2,
       "version_minor": 0
      },
      "text/plain": [
       "VaineWidget(component='VaineWidget', props={'treatments': ['Treatment.cylinders', 'Treatment.displacement', 'T…"
      ]
     },
     "metadata": {},
     "output_type": "display_data"
    }
   ],
   "source": [
    "VaineWidget(df, treatments, outcomes, ignore)"
   ]
  },
  {
   "cell_type": "code",
   "execution_count": null,
   "metadata": {},
   "outputs": [],
   "source": []
  }
 ],
 "metadata": {
  "kernelspec": {
   "display_name": "Python 3",
   "language": "python",
   "name": "python3"
  },
  "language_info": {
   "codemirror_mode": {
    "name": "ipython",
    "version": 3
   },
   "file_extension": ".py",
   "mimetype": "text/x-python",
   "name": "python",
   "nbconvert_exporter": "python",
   "pygments_lexer": "ipython3",
   "version": "3.8.3"
  }
 },
 "nbformat": 4,
 "nbformat_minor": 4
}
